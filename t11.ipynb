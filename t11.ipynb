{
 "cells": [
  {
   "cell_type": "code",
   "execution_count": 57,
   "metadata": {},
   "outputs": [
    {
     "name": "stdout",
     "output_type": "stream",
     "text": [
      "Requirement already satisfied: pandas in c:\\users\\naufal ahmad\\appdata\\local\\programs\\python\\python312\\lib\\site-packages (2.2.3)\n",
      "Requirement already satisfied: numpy>=1.26.0 in c:\\users\\naufal ahmad\\appdata\\local\\programs\\python\\python312\\lib\\site-packages (from pandas) (2.1.2)\n",
      "Requirement already satisfied: python-dateutil>=2.8.2 in c:\\users\\naufal ahmad\\appdata\\roaming\\python\\python312\\site-packages (from pandas) (2.9.0.post0)\n",
      "Requirement already satisfied: pytz>=2020.1 in c:\\users\\naufal ahmad\\appdata\\local\\programs\\python\\python312\\lib\\site-packages (from pandas) (2024.2)\n",
      "Requirement already satisfied: tzdata>=2022.7 in c:\\users\\naufal ahmad\\appdata\\local\\programs\\python\\python312\\lib\\site-packages (from pandas) (2024.2)\n",
      "Requirement already satisfied: six>=1.5 in c:\\users\\naufal ahmad\\appdata\\roaming\\python\\python312\\site-packages (from python-dateutil>=2.8.2->pandas) (1.16.0)\n"
     ]
    },
    {
     "name": "stderr",
     "output_type": "stream",
     "text": [
      "\n",
      "[notice] A new release of pip is available: 24.2 -> 24.3.1\n",
      "[notice] To update, run: python.exe -m pip install --upgrade pip\n"
     ]
    }
   ],
   "source": [
    "!pip install pandas"
   ]
  },
  {
   "cell_type": "code",
   "execution_count": 76,
   "metadata": {},
   "outputs": [
    {
     "data": {
      "text/html": [
       "<div>\n",
       "<style scoped>\n",
       "    .dataframe tbody tr th:only-of-type {\n",
       "        vertical-align: middle;\n",
       "    }\n",
       "\n",
       "    .dataframe tbody tr th {\n",
       "        vertical-align: top;\n",
       "    }\n",
       "\n",
       "    .dataframe thead th {\n",
       "        text-align: right;\n",
       "    }\n",
       "</style>\n",
       "<table border=\"1\" class=\"dataframe\">\n",
       "  <thead>\n",
       "    <tr style=\"text-align: right;\">\n",
       "      <th></th>\n",
       "      <th>id</th>\n",
       "      <th>kode_provinsi</th>\n",
       "      <th>nama_provinsi</th>\n",
       "      <th>kode_kabupaten_kota</th>\n",
       "      <th>nama_kabupaten_kota</th>\n",
       "      <th>jumlah_produksi_sampah</th>\n",
       "      <th>satuan</th>\n",
       "      <th>tahun</th>\n",
       "    </tr>\n",
       "  </thead>\n",
       "  <tbody>\n",
       "    <tr>\n",
       "      <th>0</th>\n",
       "      <td>1</td>\n",
       "      <td>32</td>\n",
       "      <td>JAWA BARAT</td>\n",
       "      <td>3201</td>\n",
       "      <td>KABUPATEN BOGOR</td>\n",
       "      <td>1511.15</td>\n",
       "      <td>TON PER HARI</td>\n",
       "      <td>2015</td>\n",
       "    </tr>\n",
       "    <tr>\n",
       "      <th>1</th>\n",
       "      <td>2</td>\n",
       "      <td>32</td>\n",
       "      <td>JAWA BARAT</td>\n",
       "      <td>3202</td>\n",
       "      <td>KABUPATEN SUKABUMI</td>\n",
       "      <td>419.01</td>\n",
       "      <td>TON PER HARI</td>\n",
       "      <td>2015</td>\n",
       "    </tr>\n",
       "    <tr>\n",
       "      <th>2</th>\n",
       "      <td>3</td>\n",
       "      <td>32</td>\n",
       "      <td>JAWA BARAT</td>\n",
       "      <td>3203</td>\n",
       "      <td>KABUPATEN CIANJUR</td>\n",
       "      <td>981.41</td>\n",
       "      <td>TON PER HARI</td>\n",
       "      <td>2015</td>\n",
       "    </tr>\n",
       "    <tr>\n",
       "      <th>3</th>\n",
       "      <td>4</td>\n",
       "      <td>32</td>\n",
       "      <td>JAWA BARAT</td>\n",
       "      <td>3204</td>\n",
       "      <td>KABUPATEN BANDUNG</td>\n",
       "      <td>1895.94</td>\n",
       "      <td>TON PER HARI</td>\n",
       "      <td>2017</td>\n",
       "    </tr>\n",
       "    <tr>\n",
       "      <th>4</th>\n",
       "      <td>5</td>\n",
       "      <td>32</td>\n",
       "      <td>JAWA BARAT</td>\n",
       "      <td>3205</td>\n",
       "      <td>KABUPATEN GARUT</td>\n",
       "      <td>464.74</td>\n",
       "      <td>TON PER HARI</td>\n",
       "      <td>2017</td>\n",
       "    </tr>\n",
       "  </tbody>\n",
       "</table>\n",
       "</div>"
      ],
      "text/plain": [
       "   id  kode_provinsi nama_provinsi  kode_kabupaten_kota nama_kabupaten_kota  \\\n",
       "0   1             32    JAWA BARAT                 3201     KABUPATEN BOGOR   \n",
       "1   2             32    JAWA BARAT                 3202  KABUPATEN SUKABUMI   \n",
       "2   3             32    JAWA BARAT                 3203   KABUPATEN CIANJUR   \n",
       "3   4             32    JAWA BARAT                 3204   KABUPATEN BANDUNG   \n",
       "4   5             32    JAWA BARAT                 3205     KABUPATEN GARUT   \n",
       "\n",
       "   jumlah_produksi_sampah        satuan  tahun  \n",
       "0                 1511.15  TON PER HARI   2015  \n",
       "1                  419.01  TON PER HARI   2015  \n",
       "2                  981.41  TON PER HARI   2015  \n",
       "3                 1895.94  TON PER HARI   2017  \n",
       "4                  464.74  TON PER HARI   2017  "
      ]
     },
     "execution_count": 76,
     "metadata": {},
     "output_type": "execute_result"
    }
   ],
   "source": [
    "import pandas as pd\n",
    "ds = pd.read_excel('data-sampah.xlsx', sheet_name='data', index_col=False)\n",
    "ds"
   ]
  },
  {
   "cell_type": "code",
   "execution_count": 59,
   "metadata": {},
   "outputs": [
    {
     "name": "stdout",
     "output_type": "stream",
     "text": [
      "5\n"
     ]
    }
   ],
   "source": [
    "print(len(ds))"
   ]
  },
  {
   "cell_type": "code",
   "execution_count": 77,
   "metadata": {},
   "outputs": [
    {
     "data": {
      "text/html": [
       "<div>\n",
       "<style scoped>\n",
       "    .dataframe tbody tr th:only-of-type {\n",
       "        vertical-align: middle;\n",
       "    }\n",
       "\n",
       "    .dataframe tbody tr th {\n",
       "        vertical-align: top;\n",
       "    }\n",
       "\n",
       "    .dataframe thead th {\n",
       "        text-align: right;\n",
       "    }\n",
       "</style>\n",
       "<table border=\"1\" class=\"dataframe\">\n",
       "  <thead>\n",
       "    <tr style=\"text-align: right;\">\n",
       "      <th></th>\n",
       "      <th>tahun</th>\n",
       "      <th>jumlah sampah</th>\n",
       "    </tr>\n",
       "  </thead>\n",
       "  <tbody>\n",
       "    <tr>\n",
       "      <th>0</th>\n",
       "      <td>2017</td>\n",
       "      <td>2360.68</td>\n",
       "    </tr>\n",
       "  </tbody>\n",
       "</table>\n",
       "</div>"
      ],
      "text/plain": [
       "   tahun  jumlah sampah\n",
       "0   2017        2360.68"
      ]
     },
     "execution_count": 77,
     "metadata": {},
     "output_type": "execute_result"
    }
   ],
   "source": [
    "#munjumlahkan data sampah pada tahun 2017\n",
    "jumlah = 0\n",
    "tahun = 2017\n",
    "for i, row in ds.iterrows():\n",
    "    if row ['tahun']==tahun:\n",
    "        jumlah += row['jumlah_produksi_sampah']\n",
    "\n",
    "jumlah = pd.DataFrame({'tahun':[tahun], \"jumlah sampah\":[jumlah]})\n",
    "jumlah.to_excel(\"tahun.xlsx\",index=False)\n",
    "jumlah.to_csv(\"tahun.csv\",index=False)\n",
    "jumlah"
   ]
  },
  {
   "cell_type": "code",
   "execution_count": 73,
   "metadata": {},
   "outputs": [
    {
     "data": {
      "text/html": [
       "<div>\n",
       "<style scoped>\n",
       "    .dataframe tbody tr th:only-of-type {\n",
       "        vertical-align: middle;\n",
       "    }\n",
       "\n",
       "    .dataframe tbody tr th {\n",
       "        vertical-align: top;\n",
       "    }\n",
       "\n",
       "    .dataframe thead th {\n",
       "        text-align: right;\n",
       "    }\n",
       "</style>\n",
       "<table border=\"1\" class=\"dataframe\">\n",
       "  <thead>\n",
       "    <tr style=\"text-align: right;\">\n",
       "      <th></th>\n",
       "      <th>tahun</th>\n",
       "      <th>jumlah_produksi_sampah</th>\n",
       "    </tr>\n",
       "  </thead>\n",
       "  <tbody>\n",
       "    <tr>\n",
       "      <th>0</th>\n",
       "      <td>2015</td>\n",
       "      <td>2911.57</td>\n",
       "    </tr>\n",
       "    <tr>\n",
       "      <th>1</th>\n",
       "      <td>2017</td>\n",
       "      <td>2360.68</td>\n",
       "    </tr>\n",
       "  </tbody>\n",
       "</table>\n",
       "</div>"
      ],
      "text/plain": [
       "   tahun  jumlah_produksi_sampah\n",
       "0   2015                 2911.57\n",
       "1   2017                 2360.68"
      ]
     },
     "execution_count": 73,
     "metadata": {},
     "output_type": "execute_result"
    }
   ],
   "source": [
    "#jumlahkan data pertahun\n",
    "total_pertahun = {}\n",
    "for i, row in ds.iterrows():\n",
    "    if row['tahun'] not in total_pertahun:\n",
    "        total_pertahun[row['tahun']] = 0\n",
    "    total_pertahun[row['tahun']] += row['jumlah_produksi_sampah']\n",
    "\n",
    "total_pertahun=pd.DataFrame(total_pertahun.items(), columns=['tahun','jumlah_produksi_sampah'])\n",
    "total_pertahun.to_excel(\"tahun.xlsx\",index=False)\n",
    "total_pertahun.to_csv(\"tahun.csv\",index=False)\n",
    "total_pertahun\n"
   ]
  },
  {
   "cell_type": "code",
   "execution_count": 78,
   "metadata": {},
   "outputs": [
    {
     "data": {
      "text/html": [
       "<div>\n",
       "<style scoped>\n",
       "    .dataframe tbody tr th:only-of-type {\n",
       "        vertical-align: middle;\n",
       "    }\n",
       "\n",
       "    .dataframe tbody tr th {\n",
       "        vertical-align: top;\n",
       "    }\n",
       "\n",
       "    .dataframe thead th {\n",
       "        text-align: right;\n",
       "    }\n",
       "</style>\n",
       "<table border=\"1\" class=\"dataframe\">\n",
       "  <thead>\n",
       "    <tr style=\"text-align: right;\">\n",
       "      <th></th>\n",
       "      <th>KABUPATEN BOGOR</th>\n",
       "      <th>KABUPATEN SUKABUMI</th>\n",
       "      <th>KABUPATEN CIANJUR</th>\n",
       "      <th>KABUPATEN BANDUNG</th>\n",
       "      <th>KABUPATEN GARUT</th>\n",
       "    </tr>\n",
       "  </thead>\n",
       "  <tbody>\n",
       "    <tr>\n",
       "      <th>2015</th>\n",
       "      <td>1511.15</td>\n",
       "      <td>419.01</td>\n",
       "      <td>981.41</td>\n",
       "      <td>NaN</td>\n",
       "      <td>NaN</td>\n",
       "    </tr>\n",
       "    <tr>\n",
       "      <th>2017</th>\n",
       "      <td>NaN</td>\n",
       "      <td>NaN</td>\n",
       "      <td>NaN</td>\n",
       "      <td>1895.94</td>\n",
       "      <td>464.74</td>\n",
       "    </tr>\n",
       "  </tbody>\n",
       "</table>\n",
       "</div>"
      ],
      "text/plain": [
       "      KABUPATEN BOGOR  KABUPATEN SUKABUMI  KABUPATEN CIANJUR  \\\n",
       "2015          1511.15              419.01             981.41   \n",
       "2017              NaN                 NaN                NaN   \n",
       "\n",
       "      KABUPATEN BANDUNG  KABUPATEN GARUT  \n",
       "2015                NaN              NaN  \n",
       "2017            1895.94           464.74  "
      ]
     },
     "execution_count": 78,
     "metadata": {},
     "output_type": "execute_result"
    }
   ],
   "source": [
    "#jumlahkan data perkota per tahun\n",
    "kota={}\n",
    "for i, row in ds.iterrows():\n",
    "    if row['nama_kabupaten_kota'] not in kota:\n",
    "        kota[row['nama_kabupaten_kota']]={}\n",
    "    if row['tahun'] not in kota[row['nama_kabupaten_kota']]:\n",
    "        kota[row['nama_kabupaten_kota']][row['tahun']]=0\n",
    "    kota [row['nama_kabupaten_kota']][row['tahun']] += row['jumlah_produksi_sampah']\n",
    "ds = pd.DataFrame(kota)\n",
    "ds.to_csv('perkota_pertahun.csv')\n",
    "ds.to_excel('perkota_pertahun.xlsx')\n",
    "ds"
   ]
  }
 ],
 "metadata": {
  "kernelspec": {
   "display_name": "Python 3",
   "language": "python",
   "name": "python3"
  },
  "language_info": {
   "codemirror_mode": {
    "name": "ipython",
    "version": 3
   },
   "file_extension": ".py",
   "mimetype": "text/x-python",
   "name": "python",
   "nbconvert_exporter": "python",
   "pygments_lexer": "ipython3",
   "version": "3.12.7"
  }
 },
 "nbformat": 4,
 "nbformat_minor": 2
}
